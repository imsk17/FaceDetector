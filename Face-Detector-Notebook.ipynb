{
 "cells": [
  {
   "cell_type": "code",
   "execution_count": null,
   "metadata": {
    "tags": []
   },
   "outputs": [],
   "source": [
    "# Install Libraries\n",
    "! pip uninstall dlib cv2"
   ]
  },
  {
   "cell_type": "code",
   "execution_count": null,
   "metadata": {},
   "outputs": [],
   "source": [
    "# Import Libraries\n",
    "import cv2\n",
    "import dlib"
   ]
  },
  {
   "cell_type": "code",
   "execution_count": null,
   "metadata": {},
   "outputs": [],
   "source": [
    "face_detect = dlib.cnn_face_detection_model_v1(\"/data/mmod_human_face_detector.dat\")"
   ]
  },
  {
   "cell_type": "code",
   "execution_count": null,
   "metadata": {},
   "outputs": [],
   "source": [
    "def PlayFoundSound():\n",
    "        os.system(\"mpg123 data/sounds/face_found.mp3\") "
   ]
  },
  {
   "cell_type": "code",
   "execution_count": null,
   "metadata": {},
   "outputs": [],
   "source": [
    "def PlayNoFaceSound():\n",
    "        os.system(\"mpg123 data/sounds/face_not_found.mp3\") "
   ]
  },
  {
   "cell_type": "code",
   "execution_count": null,
   "metadata": {},
   "outputs": [],
   "source": [
    "# Capture Video\n",
    "video_capture = cv2.VideoCapture(0)"
   ]
  },
  {
   "cell_type": "code",
   "execution_count": null,
   "metadata": {
    "tags": []
   },
   "outputs": [],
   "source": [
    "person = 0\n",
    "while (True):\n",
    "  ret, frame = video_capture.read()\n",
    "  frame =cv2.resize(frame, (600, 400))\n",
    "  faces = face_detect(frame, 1)\n",
    "  if (len(faces) > 0 ):\n",
    "    person = person + 1\n",
    "    PlayFoundSound()\n",
    "    print(\"Found Faces\")\n",
    "    for face in faces:\n",
    "      x1 = face.rect.left()\n",
    "      y1 = face.rect.bottom()\n",
    "      x2 = face.rect.right()\n",
    "      y2 = face.rect.top()\n",
    "      # Draw a Rectangle\n",
    "      cv2.rectangle(frame, (x1, y1), (x2, y2), (255,0,0), 1)\n",
    "      cv2.imwrite(f\"/data/faces/person{person}.jpg\", frame)\n",
    "    cv2.imshow(frame)\n",
    "  else:\n",
    "    PlayNoFaceSound()\n",
    "    print(\"No Faces in Frame.\")\n",
    "  if cv2.waitKey(25) & 0xFF == ord('q'):\n",
    "    break\n",
    "\n",
    "video_capture.release()\n",
    "cv2.destroyAllWindows()"
   ]
  }
 ],
 "metadata": {
  "kernelspec": {
   "display_name": "Python 3",
   "language": "python",
   "name": "python3"
  },
  "language_info": {
   "codemirror_mode": {
    "name": "ipython",
    "version": 3
   },
   "file_extension": ".py",
   "mimetype": "text/x-python",
   "name": "python",
   "nbconvert_exporter": "python",
   "pygments_lexer": "ipython3",
   "version": "3.8.5"
  }
 },
 "nbformat": 4,
 "nbformat_minor": 4
}